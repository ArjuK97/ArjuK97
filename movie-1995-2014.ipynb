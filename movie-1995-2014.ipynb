{
 "cells": [
  {
   "cell_type": "code",
   "execution_count": 1,
   "id": "254fdafd",
   "metadata": {
    "_cell_guid": "b1076dfc-b9ad-4769-8c92-a6c4dae69d19",
    "_uuid": "8f2839f25d086af736a60e9eeb907d3b93b6e0e5",
    "execution": {
     "iopub.execute_input": "2023-08-11T20:12:40.011863Z",
     "iopub.status.busy": "2023-08-11T20:12:40.011443Z",
     "iopub.status.idle": "2023-08-11T20:12:40.034174Z",
     "shell.execute_reply": "2023-08-11T20:12:40.033280Z"
    },
    "papermill": {
     "duration": 0.042913,
     "end_time": "2023-08-11T20:12:40.036685",
     "exception": false,
     "start_time": "2023-08-11T20:12:39.993772",
     "status": "completed"
    },
    "tags": []
   },
   "outputs": [
    {
     "name": "stdout",
     "output_type": "stream",
     "text": [
      "/kaggle/input/movielens-20m-dataset/rating.csv\n",
      "/kaggle/input/movielens-20m-dataset/link.csv\n",
      "/kaggle/input/movielens-20m-dataset/genome_tags.csv\n",
      "/kaggle/input/movielens-20m-dataset/genome_scores.csv\n",
      "/kaggle/input/movielens-20m-dataset/tag.csv\n",
      "/kaggle/input/movielens-20m-dataset/movie.csv\n"
     ]
    }
   ],
   "source": [
    "# This Python 3 environment comes with many helpful analytics libraries installed\n",
    "# It is defined by the kaggle/python Docker image: https://github.com/kaggle/docker-python\n",
    "# For example, here's several helpful packages to load\n",
    "\n",
    "import numpy as np # linear algebra\n",
    "import pandas as pd # data processing, CSV file I/O (e.g. pd.read_csv)\n",
    "\n",
    "# Input data files are available in the read-only \"../input/\" directory\n",
    "# For example, running this (by clicking run or pressing Shift+Enter) will list all files under the input directory\n",
    "\n",
    "import os\n",
    "for dirname, _, filenames in os.walk('/kaggle/input'):\n",
    "    for filename in filenames:\n",
    "        print(os.path.join(dirname, filename))\n",
    "\n",
    "# You can write up to 20GB to the current directory (/kaggle/working/) that gets preserved as output when you create a version using \"Save & Run All\" \n",
    "# You can also write temporary files to /kaggle/temp/, but they won't be saved outside of the current session"
   ]
  },
  {
   "cell_type": "code",
   "execution_count": 2,
   "id": "1e61c063",
   "metadata": {
    "execution": {
     "iopub.execute_input": "2023-08-11T20:12:40.072203Z",
     "iopub.status.busy": "2023-08-11T20:12:40.071757Z",
     "iopub.status.idle": "2023-08-11T20:12:40.078115Z",
     "shell.execute_reply": "2023-08-11T20:12:40.077217Z"
    },
    "papermill": {
     "duration": 0.027437,
     "end_time": "2023-08-11T20:12:40.080527",
     "exception": false,
     "start_time": "2023-08-11T20:12:40.053090",
     "status": "completed"
    },
    "tags": []
   },
   "outputs": [],
   "source": [
    "import pandas as pd \n",
    "import matplotlib as plt\n",
    "%matplotlib inline\n",
    "import warnings\n",
    "warnings.filterwarnings('ignore')\n"
   ]
  },
  {
   "cell_type": "code",
   "execution_count": 3,
   "id": "4700ae5d",
   "metadata": {
    "execution": {
     "iopub.execute_input": "2023-08-11T20:12:40.113983Z",
     "iopub.status.busy": "2023-08-11T20:12:40.113262Z",
     "iopub.status.idle": "2023-08-11T20:12:40.214369Z",
     "shell.execute_reply": "2023-08-11T20:12:40.213209Z"
    },
    "papermill": {
     "duration": 0.120406,
     "end_time": "2023-08-11T20:12:40.216619",
     "exception": false,
     "start_time": "2023-08-11T20:12:40.096213",
     "status": "completed"
    },
    "tags": []
   },
   "outputs": [
    {
     "name": "stdout",
     "output_type": "stream",
     "text": [
      "<class 'pandas.core.frame.DataFrame'>\n"
     ]
    },
    {
     "data": {
      "text/html": [
       "<div>\n",
       "<style scoped>\n",
       "    .dataframe tbody tr th:only-of-type {\n",
       "        vertical-align: middle;\n",
       "    }\n",
       "\n",
       "    .dataframe tbody tr th {\n",
       "        vertical-align: top;\n",
       "    }\n",
       "\n",
       "    .dataframe thead th {\n",
       "        text-align: right;\n",
       "    }\n",
       "</style>\n",
       "<table border=\"1\" class=\"dataframe\">\n",
       "  <thead>\n",
       "    <tr style=\"text-align: right;\">\n",
       "      <th></th>\n",
       "      <th>movieId</th>\n",
       "      <th>title</th>\n",
       "      <th>genres</th>\n",
       "    </tr>\n",
       "  </thead>\n",
       "  <tbody>\n",
       "    <tr>\n",
       "      <th>0</th>\n",
       "      <td>1</td>\n",
       "      <td>Toy Story (1995)</td>\n",
       "      <td>Adventure|Animation|Children|Comedy|Fantasy</td>\n",
       "    </tr>\n",
       "    <tr>\n",
       "      <th>1</th>\n",
       "      <td>2</td>\n",
       "      <td>Jumanji (1995)</td>\n",
       "      <td>Adventure|Children|Fantasy</td>\n",
       "    </tr>\n",
       "    <tr>\n",
       "      <th>2</th>\n",
       "      <td>3</td>\n",
       "      <td>Grumpier Old Men (1995)</td>\n",
       "      <td>Comedy|Romance</td>\n",
       "    </tr>\n",
       "    <tr>\n",
       "      <th>3</th>\n",
       "      <td>4</td>\n",
       "      <td>Waiting to Exhale (1995)</td>\n",
       "      <td>Comedy|Drama|Romance</td>\n",
       "    </tr>\n",
       "    <tr>\n",
       "      <th>4</th>\n",
       "      <td>5</td>\n",
       "      <td>Father of the Bride Part II (1995)</td>\n",
       "      <td>Comedy</td>\n",
       "    </tr>\n",
       "    <tr>\n",
       "      <th>5</th>\n",
       "      <td>6</td>\n",
       "      <td>Heat (1995)</td>\n",
       "      <td>Action|Crime|Thriller</td>\n",
       "    </tr>\n",
       "    <tr>\n",
       "      <th>6</th>\n",
       "      <td>7</td>\n",
       "      <td>Sabrina (1995)</td>\n",
       "      <td>Comedy|Romance</td>\n",
       "    </tr>\n",
       "    <tr>\n",
       "      <th>7</th>\n",
       "      <td>8</td>\n",
       "      <td>Tom and Huck (1995)</td>\n",
       "      <td>Adventure|Children</td>\n",
       "    </tr>\n",
       "    <tr>\n",
       "      <th>8</th>\n",
       "      <td>9</td>\n",
       "      <td>Sudden Death (1995)</td>\n",
       "      <td>Action</td>\n",
       "    </tr>\n",
       "    <tr>\n",
       "      <th>9</th>\n",
       "      <td>10</td>\n",
       "      <td>GoldenEye (1995)</td>\n",
       "      <td>Action|Adventure|Thriller</td>\n",
       "    </tr>\n",
       "    <tr>\n",
       "      <th>10</th>\n",
       "      <td>11</td>\n",
       "      <td>American President, The (1995)</td>\n",
       "      <td>Comedy|Drama|Romance</td>\n",
       "    </tr>\n",
       "    <tr>\n",
       "      <th>11</th>\n",
       "      <td>12</td>\n",
       "      <td>Dracula: Dead and Loving It (1995)</td>\n",
       "      <td>Comedy|Horror</td>\n",
       "    </tr>\n",
       "    <tr>\n",
       "      <th>12</th>\n",
       "      <td>13</td>\n",
       "      <td>Balto (1995)</td>\n",
       "      <td>Adventure|Animation|Children</td>\n",
       "    </tr>\n",
       "    <tr>\n",
       "      <th>13</th>\n",
       "      <td>14</td>\n",
       "      <td>Nixon (1995)</td>\n",
       "      <td>Drama</td>\n",
       "    </tr>\n",
       "    <tr>\n",
       "      <th>14</th>\n",
       "      <td>15</td>\n",
       "      <td>Cutthroat Island (1995)</td>\n",
       "      <td>Action|Adventure|Romance</td>\n",
       "    </tr>\n",
       "    <tr>\n",
       "      <th>15</th>\n",
       "      <td>16</td>\n",
       "      <td>Casino (1995)</td>\n",
       "      <td>Crime|Drama</td>\n",
       "    </tr>\n",
       "    <tr>\n",
       "      <th>16</th>\n",
       "      <td>17</td>\n",
       "      <td>Sense and Sensibility (1995)</td>\n",
       "      <td>Drama|Romance</td>\n",
       "    </tr>\n",
       "    <tr>\n",
       "      <th>17</th>\n",
       "      <td>18</td>\n",
       "      <td>Four Rooms (1995)</td>\n",
       "      <td>Comedy</td>\n",
       "    </tr>\n",
       "    <tr>\n",
       "      <th>18</th>\n",
       "      <td>19</td>\n",
       "      <td>Ace Ventura: When Nature Calls (1995)</td>\n",
       "      <td>Comedy</td>\n",
       "    </tr>\n",
       "    <tr>\n",
       "      <th>19</th>\n",
       "      <td>20</td>\n",
       "      <td>Money Train (1995)</td>\n",
       "      <td>Action|Comedy|Crime|Drama|Thriller</td>\n",
       "    </tr>\n",
       "  </tbody>\n",
       "</table>\n",
       "</div>"
      ],
      "text/plain": [
       "    movieId                                  title  \\\n",
       "0         1                       Toy Story (1995)   \n",
       "1         2                         Jumanji (1995)   \n",
       "2         3                Grumpier Old Men (1995)   \n",
       "3         4               Waiting to Exhale (1995)   \n",
       "4         5     Father of the Bride Part II (1995)   \n",
       "5         6                            Heat (1995)   \n",
       "6         7                         Sabrina (1995)   \n",
       "7         8                    Tom and Huck (1995)   \n",
       "8         9                    Sudden Death (1995)   \n",
       "9        10                       GoldenEye (1995)   \n",
       "10       11         American President, The (1995)   \n",
       "11       12     Dracula: Dead and Loving It (1995)   \n",
       "12       13                           Balto (1995)   \n",
       "13       14                           Nixon (1995)   \n",
       "14       15                Cutthroat Island (1995)   \n",
       "15       16                          Casino (1995)   \n",
       "16       17           Sense and Sensibility (1995)   \n",
       "17       18                      Four Rooms (1995)   \n",
       "18       19  Ace Ventura: When Nature Calls (1995)   \n",
       "19       20                     Money Train (1995)   \n",
       "\n",
       "                                         genres  \n",
       "0   Adventure|Animation|Children|Comedy|Fantasy  \n",
       "1                    Adventure|Children|Fantasy  \n",
       "2                                Comedy|Romance  \n",
       "3                          Comedy|Drama|Romance  \n",
       "4                                        Comedy  \n",
       "5                         Action|Crime|Thriller  \n",
       "6                                Comedy|Romance  \n",
       "7                            Adventure|Children  \n",
       "8                                        Action  \n",
       "9                     Action|Adventure|Thriller  \n",
       "10                         Comedy|Drama|Romance  \n",
       "11                                Comedy|Horror  \n",
       "12                 Adventure|Animation|Children  \n",
       "13                                        Drama  \n",
       "14                     Action|Adventure|Romance  \n",
       "15                                  Crime|Drama  \n",
       "16                                Drama|Romance  \n",
       "17                                       Comedy  \n",
       "18                                       Comedy  \n",
       "19           Action|Comedy|Crime|Drama|Thriller  "
      ]
     },
     "execution_count": 3,
     "metadata": {},
     "output_type": "execute_result"
    }
   ],
   "source": [
    "movies = pd.read_csv('../input/movielens-20m-dataset/movie.csv')\n",
    "print(type(movies))\n",
    "movies.head(20)"
   ]
  },
  {
   "cell_type": "code",
   "execution_count": 4,
   "id": "01e25ddd",
   "metadata": {
    "execution": {
     "iopub.execute_input": "2023-08-11T20:12:40.251773Z",
     "iopub.status.busy": "2023-08-11T20:12:40.251332Z",
     "iopub.status.idle": "2023-08-11T20:12:40.264670Z",
     "shell.execute_reply": "2023-08-11T20:12:40.263471Z"
    },
    "papermill": {
     "duration": 0.033574,
     "end_time": "2023-08-11T20:12:40.267108",
     "exception": false,
     "start_time": "2023-08-11T20:12:40.233534",
     "status": "completed"
    },
    "tags": []
   },
   "outputs": [
    {
     "data": {
      "text/html": [
       "<div>\n",
       "<style scoped>\n",
       "    .dataframe tbody tr th:only-of-type {\n",
       "        vertical-align: middle;\n",
       "    }\n",
       "\n",
       "    .dataframe tbody tr th {\n",
       "        vertical-align: top;\n",
       "    }\n",
       "\n",
       "    .dataframe thead th {\n",
       "        text-align: right;\n",
       "    }\n",
       "</style>\n",
       "<table border=\"1\" class=\"dataframe\">\n",
       "  <thead>\n",
       "    <tr style=\"text-align: right;\">\n",
       "      <th></th>\n",
       "      <th>movieId</th>\n",
       "      <th>title</th>\n",
       "      <th>genres</th>\n",
       "    </tr>\n",
       "  </thead>\n",
       "  <tbody>\n",
       "    <tr>\n",
       "      <th>27268</th>\n",
       "      <td>131241</td>\n",
       "      <td>Ants in the Pants (2000)</td>\n",
       "      <td>Comedy|Romance</td>\n",
       "    </tr>\n",
       "    <tr>\n",
       "      <th>27269</th>\n",
       "      <td>131243</td>\n",
       "      <td>Werner - Gekotzt wird später (2003)</td>\n",
       "      <td>Animation|Comedy</td>\n",
       "    </tr>\n",
       "    <tr>\n",
       "      <th>27270</th>\n",
       "      <td>131248</td>\n",
       "      <td>Brother Bear 2 (2006)</td>\n",
       "      <td>Adventure|Animation|Children|Comedy|Fantasy</td>\n",
       "    </tr>\n",
       "    <tr>\n",
       "      <th>27271</th>\n",
       "      <td>131250</td>\n",
       "      <td>No More School (2000)</td>\n",
       "      <td>Comedy</td>\n",
       "    </tr>\n",
       "    <tr>\n",
       "      <th>27272</th>\n",
       "      <td>131252</td>\n",
       "      <td>Forklift Driver Klaus: The First Day on the Jo...</td>\n",
       "      <td>Comedy|Horror</td>\n",
       "    </tr>\n",
       "    <tr>\n",
       "      <th>27273</th>\n",
       "      <td>131254</td>\n",
       "      <td>Kein Bund für's Leben (2007)</td>\n",
       "      <td>Comedy</td>\n",
       "    </tr>\n",
       "    <tr>\n",
       "      <th>27274</th>\n",
       "      <td>131256</td>\n",
       "      <td>Feuer, Eis &amp; Dosenbier (2002)</td>\n",
       "      <td>Comedy</td>\n",
       "    </tr>\n",
       "    <tr>\n",
       "      <th>27275</th>\n",
       "      <td>131258</td>\n",
       "      <td>The Pirates (2014)</td>\n",
       "      <td>Adventure</td>\n",
       "    </tr>\n",
       "    <tr>\n",
       "      <th>27276</th>\n",
       "      <td>131260</td>\n",
       "      <td>Rentun Ruusu (2001)</td>\n",
       "      <td>(no genres listed)</td>\n",
       "    </tr>\n",
       "    <tr>\n",
       "      <th>27277</th>\n",
       "      <td>131262</td>\n",
       "      <td>Innocence (2014)</td>\n",
       "      <td>Adventure|Fantasy|Horror</td>\n",
       "    </tr>\n",
       "  </tbody>\n",
       "</table>\n",
       "</div>"
      ],
      "text/plain": [
       "       movieId                                              title  \\\n",
       "27268   131241                           Ants in the Pants (2000)   \n",
       "27269   131243                Werner - Gekotzt wird später (2003)   \n",
       "27270   131248                              Brother Bear 2 (2006)   \n",
       "27271   131250                              No More School (2000)   \n",
       "27272   131252  Forklift Driver Klaus: The First Day on the Jo...   \n",
       "27273   131254                       Kein Bund für's Leben (2007)   \n",
       "27274   131256                      Feuer, Eis & Dosenbier (2002)   \n",
       "27275   131258                                 The Pirates (2014)   \n",
       "27276   131260                                Rentun Ruusu (2001)   \n",
       "27277   131262                                   Innocence (2014)   \n",
       "\n",
       "                                            genres  \n",
       "27268                               Comedy|Romance  \n",
       "27269                             Animation|Comedy  \n",
       "27270  Adventure|Animation|Children|Comedy|Fantasy  \n",
       "27271                                       Comedy  \n",
       "27272                                Comedy|Horror  \n",
       "27273                                       Comedy  \n",
       "27274                                       Comedy  \n",
       "27275                                    Adventure  \n",
       "27276                           (no genres listed)  \n",
       "27277                     Adventure|Fantasy|Horror  "
      ]
     },
     "execution_count": 4,
     "metadata": {},
     "output_type": "execute_result"
    }
   ],
   "source": [
    "movies.tail(10)"
   ]
  },
  {
   "cell_type": "code",
   "execution_count": 5,
   "id": "b249e774",
   "metadata": {
    "execution": {
     "iopub.execute_input": "2023-08-11T20:12:40.301907Z",
     "iopub.status.busy": "2023-08-11T20:12:40.301482Z",
     "iopub.status.idle": "2023-08-11T20:12:41.244769Z",
     "shell.execute_reply": "2023-08-11T20:12:41.243563Z"
    },
    "papermill": {
     "duration": 0.96379,
     "end_time": "2023-08-11T20:12:41.247342",
     "exception": false,
     "start_time": "2023-08-11T20:12:40.283552",
     "status": "completed"
    },
    "tags": []
   },
   "outputs": [
    {
     "data": {
      "text/html": [
       "<div>\n",
       "<style scoped>\n",
       "    .dataframe tbody tr th:only-of-type {\n",
       "        vertical-align: middle;\n",
       "    }\n",
       "\n",
       "    .dataframe tbody tr th {\n",
       "        vertical-align: top;\n",
       "    }\n",
       "\n",
       "    .dataframe thead th {\n",
       "        text-align: right;\n",
       "    }\n",
       "</style>\n",
       "<table border=\"1\" class=\"dataframe\">\n",
       "  <thead>\n",
       "    <tr style=\"text-align: right;\">\n",
       "      <th></th>\n",
       "      <th>userId</th>\n",
       "      <th>movieId</th>\n",
       "      <th>tag</th>\n",
       "      <th>timestamp</th>\n",
       "    </tr>\n",
       "  </thead>\n",
       "  <tbody>\n",
       "    <tr>\n",
       "      <th>0</th>\n",
       "      <td>18</td>\n",
       "      <td>4141</td>\n",
       "      <td>Mark Waters</td>\n",
       "      <td>2009-04-24 18:19:40</td>\n",
       "    </tr>\n",
       "    <tr>\n",
       "      <th>1</th>\n",
       "      <td>65</td>\n",
       "      <td>208</td>\n",
       "      <td>dark hero</td>\n",
       "      <td>2013-05-10 01:41:18</td>\n",
       "    </tr>\n",
       "    <tr>\n",
       "      <th>2</th>\n",
       "      <td>65</td>\n",
       "      <td>353</td>\n",
       "      <td>dark hero</td>\n",
       "      <td>2013-05-10 01:41:19</td>\n",
       "    </tr>\n",
       "    <tr>\n",
       "      <th>3</th>\n",
       "      <td>65</td>\n",
       "      <td>521</td>\n",
       "      <td>noir thriller</td>\n",
       "      <td>2013-05-10 01:39:43</td>\n",
       "    </tr>\n",
       "    <tr>\n",
       "      <th>4</th>\n",
       "      <td>65</td>\n",
       "      <td>592</td>\n",
       "      <td>dark hero</td>\n",
       "      <td>2013-05-10 01:41:18</td>\n",
       "    </tr>\n",
       "  </tbody>\n",
       "</table>\n",
       "</div>"
      ],
      "text/plain": [
       "   userId  movieId            tag            timestamp\n",
       "0      18     4141    Mark Waters  2009-04-24 18:19:40\n",
       "1      65      208      dark hero  2013-05-10 01:41:18\n",
       "2      65      353      dark hero  2013-05-10 01:41:19\n",
       "3      65      521  noir thriller  2013-05-10 01:39:43\n",
       "4      65      592      dark hero  2013-05-10 01:41:18"
      ]
     },
     "execution_count": 5,
     "metadata": {},
     "output_type": "execute_result"
    }
   ],
   "source": [
    "tags = pd.read_csv('../input/movielens-20m-dataset/tag.csv')\n",
    "tags.head()"
   ]
  },
  {
   "cell_type": "code",
   "execution_count": 6,
   "id": "2135758c",
   "metadata": {
    "execution": {
     "iopub.execute_input": "2023-08-11T20:12:41.282648Z",
     "iopub.status.busy": "2023-08-11T20:12:41.282266Z",
     "iopub.status.idle": "2023-08-11T20:13:08.923680Z",
     "shell.execute_reply": "2023-08-11T20:13:08.922393Z"
    },
    "papermill": {
     "duration": 27.66269,
     "end_time": "2023-08-11T20:13:08.926872",
     "exception": false,
     "start_time": "2023-08-11T20:12:41.264182",
     "status": "completed"
    },
    "tags": []
   },
   "outputs": [
    {
     "data": {
      "text/html": [
       "<div>\n",
       "<style scoped>\n",
       "    .dataframe tbody tr th:only-of-type {\n",
       "        vertical-align: middle;\n",
       "    }\n",
       "\n",
       "    .dataframe tbody tr th {\n",
       "        vertical-align: top;\n",
       "    }\n",
       "\n",
       "    .dataframe thead th {\n",
       "        text-align: right;\n",
       "    }\n",
       "</style>\n",
       "<table border=\"1\" class=\"dataframe\">\n",
       "  <thead>\n",
       "    <tr style=\"text-align: right;\">\n",
       "      <th></th>\n",
       "      <th>userId</th>\n",
       "      <th>movieId</th>\n",
       "      <th>rating</th>\n",
       "      <th>timestamp</th>\n",
       "    </tr>\n",
       "  </thead>\n",
       "  <tbody>\n",
       "    <tr>\n",
       "      <th>0</th>\n",
       "      <td>1</td>\n",
       "      <td>2</td>\n",
       "      <td>3.5</td>\n",
       "      <td>2005-04-02 23:53:47</td>\n",
       "    </tr>\n",
       "    <tr>\n",
       "      <th>1</th>\n",
       "      <td>1</td>\n",
       "      <td>29</td>\n",
       "      <td>3.5</td>\n",
       "      <td>2005-04-02 23:31:16</td>\n",
       "    </tr>\n",
       "    <tr>\n",
       "      <th>2</th>\n",
       "      <td>1</td>\n",
       "      <td>32</td>\n",
       "      <td>3.5</td>\n",
       "      <td>2005-04-02 23:33:39</td>\n",
       "    </tr>\n",
       "    <tr>\n",
       "      <th>3</th>\n",
       "      <td>1</td>\n",
       "      <td>47</td>\n",
       "      <td>3.5</td>\n",
       "      <td>2005-04-02 23:32:07</td>\n",
       "    </tr>\n",
       "    <tr>\n",
       "      <th>4</th>\n",
       "      <td>1</td>\n",
       "      <td>50</td>\n",
       "      <td>3.5</td>\n",
       "      <td>2005-04-02 23:29:40</td>\n",
       "    </tr>\n",
       "  </tbody>\n",
       "</table>\n",
       "</div>"
      ],
      "text/plain": [
       "   userId  movieId  rating            timestamp\n",
       "0       1        2     3.5  2005-04-02 23:53:47\n",
       "1       1       29     3.5  2005-04-02 23:31:16\n",
       "2       1       32     3.5  2005-04-02 23:33:39\n",
       "3       1       47     3.5  2005-04-02 23:32:07\n",
       "4       1       50     3.5  2005-04-02 23:29:40"
      ]
     },
     "execution_count": 6,
     "metadata": {},
     "output_type": "execute_result"
    }
   ],
   "source": [
    "ratings = pd.read_csv('../input/movielens-20m-dataset/rating.csv')\n",
    "ratings.head()"
   ]
  },
  {
   "cell_type": "markdown",
   "id": "3d45e3dd",
   "metadata": {
    "papermill": {
     "duration": 0.01667,
     "end_time": "2023-08-11T20:13:08.961515",
     "exception": false,
     "start_time": "2023-08-11T20:13:08.944845",
     "status": "completed"
    },
    "tags": []
   },
   "source": [
    "**Data Structures:**"
   ]
  },
  {
   "cell_type": "code",
   "execution_count": 7,
   "id": "429abbf7",
   "metadata": {
    "execution": {
     "iopub.execute_input": "2023-08-11T20:13:08.997809Z",
     "iopub.status.busy": "2023-08-11T20:13:08.996823Z",
     "iopub.status.idle": "2023-08-11T20:13:09.004476Z",
     "shell.execute_reply": "2023-08-11T20:13:09.003210Z"
    },
    "papermill": {
     "duration": 0.028788,
     "end_time": "2023-08-11T20:13:09.007315",
     "exception": false,
     "start_time": "2023-08-11T20:13:08.978527",
     "status": "completed"
    },
    "tags": []
   },
   "outputs": [
    {
     "data": {
      "text/plain": [
       "pandas.core.series.Series"
      ]
     },
     "execution_count": 7,
     "metadata": {},
     "output_type": "execute_result"
    }
   ],
   "source": [
    "row_0 = tags.iloc[0]\n",
    "type(row_0)"
   ]
  },
  {
   "cell_type": "code",
   "execution_count": 8,
   "id": "a8e59100",
   "metadata": {
    "execution": {
     "iopub.execute_input": "2023-08-11T20:13:09.044900Z",
     "iopub.status.busy": "2023-08-11T20:13:09.044453Z",
     "iopub.status.idle": "2023-08-11T20:13:09.051219Z",
     "shell.execute_reply": "2023-08-11T20:13:09.049987Z"
    },
    "papermill": {
     "duration": 0.028456,
     "end_time": "2023-08-11T20:13:09.053663",
     "exception": false,
     "start_time": "2023-08-11T20:13:09.025207",
     "status": "completed"
    },
    "tags": []
   },
   "outputs": [
    {
     "name": "stdout",
     "output_type": "stream",
     "text": [
      "userId                        18\n",
      "movieId                     4141\n",
      "tag                  Mark Waters\n",
      "timestamp    2009-04-24 18:19:40\n",
      "Name: 0, dtype: object\n"
     ]
    }
   ],
   "source": [
    "print(row_0)"
   ]
  },
  {
   "cell_type": "code",
   "execution_count": 9,
   "id": "59bfaac9",
   "metadata": {
    "execution": {
     "iopub.execute_input": "2023-08-11T20:13:09.090047Z",
     "iopub.status.busy": "2023-08-11T20:13:09.089598Z",
     "iopub.status.idle": "2023-08-11T20:13:09.096403Z",
     "shell.execute_reply": "2023-08-11T20:13:09.095578Z"
    },
    "papermill": {
     "duration": 0.027917,
     "end_time": "2023-08-11T20:13:09.098866",
     "exception": false,
     "start_time": "2023-08-11T20:13:09.070949",
     "status": "completed"
    },
    "tags": []
   },
   "outputs": [
    {
     "data": {
      "text/plain": [
       "Index(['userId', 'movieId', 'tag', 'timestamp'], dtype='object')"
      ]
     },
     "execution_count": 9,
     "metadata": {},
     "output_type": "execute_result"
    }
   ],
   "source": [
    "row_0.index"
   ]
  },
  {
   "cell_type": "code",
   "execution_count": 10,
   "id": "4bf025ed",
   "metadata": {
    "execution": {
     "iopub.execute_input": "2023-08-11T20:13:09.136983Z",
     "iopub.status.busy": "2023-08-11T20:13:09.135816Z",
     "iopub.status.idle": "2023-08-11T20:13:09.143651Z",
     "shell.execute_reply": "2023-08-11T20:13:09.142533Z"
    },
    "papermill": {
     "duration": 0.029431,
     "end_time": "2023-08-11T20:13:09.146166",
     "exception": false,
     "start_time": "2023-08-11T20:13:09.116735",
     "status": "completed"
    },
    "tags": []
   },
   "outputs": [
    {
     "data": {
      "text/plain": [
       "18"
      ]
     },
     "execution_count": 10,
     "metadata": {},
     "output_type": "execute_result"
    }
   ],
   "source": [
    "row_0['userId']"
   ]
  },
  {
   "cell_type": "code",
   "execution_count": 11,
   "id": "be31fba4",
   "metadata": {
    "execution": {
     "iopub.execute_input": "2023-08-11T20:13:09.183901Z",
     "iopub.status.busy": "2023-08-11T20:13:09.183112Z",
     "iopub.status.idle": "2023-08-11T20:13:09.190080Z",
     "shell.execute_reply": "2023-08-11T20:13:09.188818Z"
    },
    "papermill": {
     "duration": 0.02904,
     "end_time": "2023-08-11T20:13:09.192880",
     "exception": false,
     "start_time": "2023-08-11T20:13:09.163840",
     "status": "completed"
    },
    "tags": []
   },
   "outputs": [
    {
     "data": {
      "text/plain": [
       "False"
      ]
     },
     "execution_count": 11,
     "metadata": {},
     "output_type": "execute_result"
    }
   ],
   "source": [
    "'rating' in row_0"
   ]
  },
  {
   "cell_type": "code",
   "execution_count": 12,
   "id": "c299a358",
   "metadata": {
    "execution": {
     "iopub.execute_input": "2023-08-11T20:13:09.230281Z",
     "iopub.status.busy": "2023-08-11T20:13:09.229835Z",
     "iopub.status.idle": "2023-08-11T20:13:09.236825Z",
     "shell.execute_reply": "2023-08-11T20:13:09.235550Z"
    },
    "papermill": {
     "duration": 0.028933,
     "end_time": "2023-08-11T20:13:09.239466",
     "exception": false,
     "start_time": "2023-08-11T20:13:09.210533",
     "status": "completed"
    },
    "tags": []
   },
   "outputs": [
    {
     "data": {
      "text/plain": [
       "0"
      ]
     },
     "execution_count": 12,
     "metadata": {},
     "output_type": "execute_result"
    }
   ],
   "source": [
    "row_0.name"
   ]
  },
  {
   "cell_type": "code",
   "execution_count": 13,
   "id": "47b3eb08",
   "metadata": {
    "execution": {
     "iopub.execute_input": "2023-08-11T20:13:09.277458Z",
     "iopub.status.busy": "2023-08-11T20:13:09.276644Z",
     "iopub.status.idle": "2023-08-11T20:13:09.284204Z",
     "shell.execute_reply": "2023-08-11T20:13:09.283097Z"
    },
    "papermill": {
     "duration": 0.029192,
     "end_time": "2023-08-11T20:13:09.286568",
     "exception": false,
     "start_time": "2023-08-11T20:13:09.257376",
     "status": "completed"
    },
    "tags": []
   },
   "outputs": [
    {
     "data": {
      "text/plain": [
       "'firstRow'"
      ]
     },
     "execution_count": 13,
     "metadata": {},
     "output_type": "execute_result"
    }
   ],
   "source": [
    "row_0 = row_0.rename('firstRow')\n",
    "row_0.name"
   ]
  },
  {
   "cell_type": "markdown",
   "id": "a4987231",
   "metadata": {
    "papermill": {
     "duration": 0.01757,
     "end_time": "2023-08-11T20:13:09.322104",
     "exception": false,
     "start_time": "2023-08-11T20:13:09.304534",
     "status": "completed"
    },
    "tags": []
   },
   "source": [
    "**DataFrames**"
   ]
  },
  {
   "cell_type": "code",
   "execution_count": 14,
   "id": "a9ae2455",
   "metadata": {
    "execution": {
     "iopub.execute_input": "2023-08-11T20:13:09.360178Z",
     "iopub.status.busy": "2023-08-11T20:13:09.359428Z",
     "iopub.status.idle": "2023-08-11T20:13:09.372359Z",
     "shell.execute_reply": "2023-08-11T20:13:09.371094Z"
    },
    "papermill": {
     "duration": 0.035035,
     "end_time": "2023-08-11T20:13:09.374996",
     "exception": false,
     "start_time": "2023-08-11T20:13:09.339961",
     "status": "completed"
    },
    "tags": []
   },
   "outputs": [
    {
     "data": {
      "text/html": [
       "<div>\n",
       "<style scoped>\n",
       "    .dataframe tbody tr th:only-of-type {\n",
       "        vertical-align: middle;\n",
       "    }\n",
       "\n",
       "    .dataframe tbody tr th {\n",
       "        vertical-align: top;\n",
       "    }\n",
       "\n",
       "    .dataframe thead th {\n",
       "        text-align: right;\n",
       "    }\n",
       "</style>\n",
       "<table border=\"1\" class=\"dataframe\">\n",
       "  <thead>\n",
       "    <tr style=\"text-align: right;\">\n",
       "      <th></th>\n",
       "      <th>userId</th>\n",
       "      <th>movieId</th>\n",
       "      <th>tag</th>\n",
       "      <th>timestamp</th>\n",
       "    </tr>\n",
       "  </thead>\n",
       "  <tbody>\n",
       "    <tr>\n",
       "      <th>0</th>\n",
       "      <td>18</td>\n",
       "      <td>4141</td>\n",
       "      <td>Mark Waters</td>\n",
       "      <td>2009-04-24 18:19:40</td>\n",
       "    </tr>\n",
       "    <tr>\n",
       "      <th>1</th>\n",
       "      <td>65</td>\n",
       "      <td>208</td>\n",
       "      <td>dark hero</td>\n",
       "      <td>2013-05-10 01:41:18</td>\n",
       "    </tr>\n",
       "    <tr>\n",
       "      <th>2</th>\n",
       "      <td>65</td>\n",
       "      <td>353</td>\n",
       "      <td>dark hero</td>\n",
       "      <td>2013-05-10 01:41:19</td>\n",
       "    </tr>\n",
       "    <tr>\n",
       "      <th>3</th>\n",
       "      <td>65</td>\n",
       "      <td>521</td>\n",
       "      <td>noir thriller</td>\n",
       "      <td>2013-05-10 01:39:43</td>\n",
       "    </tr>\n",
       "    <tr>\n",
       "      <th>4</th>\n",
       "      <td>65</td>\n",
       "      <td>592</td>\n",
       "      <td>dark hero</td>\n",
       "      <td>2013-05-10 01:41:18</td>\n",
       "    </tr>\n",
       "  </tbody>\n",
       "</table>\n",
       "</div>"
      ],
      "text/plain": [
       "   userId  movieId            tag            timestamp\n",
       "0      18     4141    Mark Waters  2009-04-24 18:19:40\n",
       "1      65      208      dark hero  2013-05-10 01:41:18\n",
       "2      65      353      dark hero  2013-05-10 01:41:19\n",
       "3      65      521  noir thriller  2013-05-10 01:39:43\n",
       "4      65      592      dark hero  2013-05-10 01:41:18"
      ]
     },
     "execution_count": 14,
     "metadata": {},
     "output_type": "execute_result"
    }
   ],
   "source": [
    "tags.head()"
   ]
  },
  {
   "cell_type": "code",
   "execution_count": 15,
   "id": "01b46a46",
   "metadata": {
    "execution": {
     "iopub.execute_input": "2023-08-11T20:13:09.413434Z",
     "iopub.status.busy": "2023-08-11T20:13:09.413029Z",
     "iopub.status.idle": "2023-08-11T20:13:09.420475Z",
     "shell.execute_reply": "2023-08-11T20:13:09.419190Z"
    },
    "papermill": {
     "duration": 0.029747,
     "end_time": "2023-08-11T20:13:09.423056",
     "exception": false,
     "start_time": "2023-08-11T20:13:09.393309",
     "status": "completed"
    },
    "tags": []
   },
   "outputs": [
    {
     "data": {
      "text/plain": [
       "Index(['userId', 'movieId', 'tag', 'timestamp'], dtype='object')"
      ]
     },
     "execution_count": 15,
     "metadata": {},
     "output_type": "execute_result"
    }
   ],
   "source": [
    "tags.columns"
   ]
  },
  {
   "cell_type": "code",
   "execution_count": 16,
   "id": "177266f7",
   "metadata": {
    "execution": {
     "iopub.execute_input": "2023-08-11T20:13:09.463092Z",
     "iopub.status.busy": "2023-08-11T20:13:09.461884Z",
     "iopub.status.idle": "2023-08-11T20:13:09.478972Z",
     "shell.execute_reply": "2023-08-11T20:13:09.477791Z"
    },
    "papermill": {
     "duration": 0.039528,
     "end_time": "2023-08-11T20:13:09.481435",
     "exception": false,
     "start_time": "2023-08-11T20:13:09.441907",
     "status": "completed"
    },
    "tags": []
   },
   "outputs": [
    {
     "data": {
      "text/html": [
       "<div>\n",
       "<style scoped>\n",
       "    .dataframe tbody tr th:only-of-type {\n",
       "        vertical-align: middle;\n",
       "    }\n",
       "\n",
       "    .dataframe tbody tr th {\n",
       "        vertical-align: top;\n",
       "    }\n",
       "\n",
       "    .dataframe thead th {\n",
       "        text-align: right;\n",
       "    }\n",
       "</style>\n",
       "<table border=\"1\" class=\"dataframe\">\n",
       "  <thead>\n",
       "    <tr style=\"text-align: right;\">\n",
       "      <th></th>\n",
       "      <th>userId</th>\n",
       "      <th>movieId</th>\n",
       "      <th>tag</th>\n",
       "      <th>timestamp</th>\n",
       "    </tr>\n",
       "  </thead>\n",
       "  <tbody>\n",
       "    <tr>\n",
       "      <th>0</th>\n",
       "      <td>18</td>\n",
       "      <td>4141</td>\n",
       "      <td>Mark Waters</td>\n",
       "      <td>2009-04-24 18:19:40</td>\n",
       "    </tr>\n",
       "    <tr>\n",
       "      <th>11</th>\n",
       "      <td>65</td>\n",
       "      <td>1783</td>\n",
       "      <td>noir thriller</td>\n",
       "      <td>2013-05-10 01:39:43</td>\n",
       "    </tr>\n",
       "    <tr>\n",
       "      <th>500</th>\n",
       "      <td>342</td>\n",
       "      <td>55908</td>\n",
       "      <td>entirely dialogue</td>\n",
       "      <td>2012-01-31 18:41:16</td>\n",
       "    </tr>\n",
       "  </tbody>\n",
       "</table>\n",
       "</div>"
      ],
      "text/plain": [
       "     userId  movieId                tag            timestamp\n",
       "0        18     4141        Mark Waters  2009-04-24 18:19:40\n",
       "11       65     1783      noir thriller  2013-05-10 01:39:43\n",
       "500     342    55908  entirely dialogue  2012-01-31 18:41:16"
      ]
     },
     "execution_count": 16,
     "metadata": {},
     "output_type": "execute_result"
    }
   ],
   "source": [
    "tags.iloc[ [0,11,500] ]"
   ]
  },
  {
   "cell_type": "markdown",
   "id": "71b604a0",
   "metadata": {
    "papermill": {
     "duration": 0.018154,
     "end_time": "2023-08-11T20:13:09.518087",
     "exception": false,
     "start_time": "2023-08-11T20:13:09.499933",
     "status": "completed"
    },
    "tags": []
   },
   "source": [
    "**Descriptive Statistics**"
   ]
  },
  {
   "cell_type": "code",
   "execution_count": 17,
   "id": "509d3852",
   "metadata": {
    "execution": {
     "iopub.execute_input": "2023-08-11T20:13:09.557472Z",
     "iopub.status.busy": "2023-08-11T20:13:09.556741Z",
     "iopub.status.idle": "2023-08-11T20:13:10.426166Z",
     "shell.execute_reply": "2023-08-11T20:13:10.424981Z"
    },
    "papermill": {
     "duration": 0.891991,
     "end_time": "2023-08-11T20:13:10.428500",
     "exception": false,
     "start_time": "2023-08-11T20:13:09.536509",
     "status": "completed"
    },
    "tags": []
   },
   "outputs": [
    {
     "data": {
      "text/plain": [
       "count    2.000026e+07\n",
       "mean     3.525529e+00\n",
       "std      1.051989e+00\n",
       "min      5.000000e-01\n",
       "25%      3.000000e+00\n",
       "50%      3.500000e+00\n",
       "75%      4.000000e+00\n",
       "max      5.000000e+00\n",
       "Name: rating, dtype: float64"
      ]
     },
     "execution_count": 17,
     "metadata": {},
     "output_type": "execute_result"
    }
   ],
   "source": [
    "ratings['rating'].describe()"
   ]
  },
  {
   "cell_type": "code",
   "execution_count": 18,
   "id": "aaae3241",
   "metadata": {
    "execution": {
     "iopub.execute_input": "2023-08-11T20:13:10.468335Z",
     "iopub.status.busy": "2023-08-11T20:13:10.467604Z",
     "iopub.status.idle": "2023-08-11T20:13:12.516688Z",
     "shell.execute_reply": "2023-08-11T20:13:12.515037Z"
    },
    "papermill": {
     "duration": 2.072374,
     "end_time": "2023-08-11T20:13:12.519782",
     "exception": false,
     "start_time": "2023-08-11T20:13:10.447408",
     "status": "completed"
    },
    "tags": []
   },
   "outputs": [
    {
     "data": {
      "text/html": [
       "<div>\n",
       "<style scoped>\n",
       "    .dataframe tbody tr th:only-of-type {\n",
       "        vertical-align: middle;\n",
       "    }\n",
       "\n",
       "    .dataframe tbody tr th {\n",
       "        vertical-align: top;\n",
       "    }\n",
       "\n",
       "    .dataframe thead th {\n",
       "        text-align: right;\n",
       "    }\n",
       "</style>\n",
       "<table border=\"1\" class=\"dataframe\">\n",
       "  <thead>\n",
       "    <tr style=\"text-align: right;\">\n",
       "      <th></th>\n",
       "      <th>userId</th>\n",
       "      <th>movieId</th>\n",
       "      <th>rating</th>\n",
       "    </tr>\n",
       "  </thead>\n",
       "  <tbody>\n",
       "    <tr>\n",
       "      <th>count</th>\n",
       "      <td>2.000026e+07</td>\n",
       "      <td>2.000026e+07</td>\n",
       "      <td>2.000026e+07</td>\n",
       "    </tr>\n",
       "    <tr>\n",
       "      <th>mean</th>\n",
       "      <td>6.904587e+04</td>\n",
       "      <td>9.041567e+03</td>\n",
       "      <td>3.525529e+00</td>\n",
       "    </tr>\n",
       "    <tr>\n",
       "      <th>std</th>\n",
       "      <td>4.003863e+04</td>\n",
       "      <td>1.978948e+04</td>\n",
       "      <td>1.051989e+00</td>\n",
       "    </tr>\n",
       "    <tr>\n",
       "      <th>min</th>\n",
       "      <td>1.000000e+00</td>\n",
       "      <td>1.000000e+00</td>\n",
       "      <td>5.000000e-01</td>\n",
       "    </tr>\n",
       "    <tr>\n",
       "      <th>25%</th>\n",
       "      <td>3.439500e+04</td>\n",
       "      <td>9.020000e+02</td>\n",
       "      <td>3.000000e+00</td>\n",
       "    </tr>\n",
       "    <tr>\n",
       "      <th>50%</th>\n",
       "      <td>6.914100e+04</td>\n",
       "      <td>2.167000e+03</td>\n",
       "      <td>3.500000e+00</td>\n",
       "    </tr>\n",
       "    <tr>\n",
       "      <th>75%</th>\n",
       "      <td>1.036370e+05</td>\n",
       "      <td>4.770000e+03</td>\n",
       "      <td>4.000000e+00</td>\n",
       "    </tr>\n",
       "    <tr>\n",
       "      <th>max</th>\n",
       "      <td>1.384930e+05</td>\n",
       "      <td>1.312620e+05</td>\n",
       "      <td>5.000000e+00</td>\n",
       "    </tr>\n",
       "  </tbody>\n",
       "</table>\n",
       "</div>"
      ],
      "text/plain": [
       "             userId       movieId        rating\n",
       "count  2.000026e+07  2.000026e+07  2.000026e+07\n",
       "mean   6.904587e+04  9.041567e+03  3.525529e+00\n",
       "std    4.003863e+04  1.978948e+04  1.051989e+00\n",
       "min    1.000000e+00  1.000000e+00  5.000000e-01\n",
       "25%    3.439500e+04  9.020000e+02  3.000000e+00\n",
       "50%    6.914100e+04  2.167000e+03  3.500000e+00\n",
       "75%    1.036370e+05  4.770000e+03  4.000000e+00\n",
       "max    1.384930e+05  1.312620e+05  5.000000e+00"
      ]
     },
     "execution_count": 18,
     "metadata": {},
     "output_type": "execute_result"
    }
   ],
   "source": [
    "ratings.describe()"
   ]
  },
  {
   "cell_type": "code",
   "execution_count": 19,
   "id": "7333d40c",
   "metadata": {
    "execution": {
     "iopub.execute_input": "2023-08-11T20:13:12.562531Z",
     "iopub.status.busy": "2023-08-11T20:13:12.562091Z",
     "iopub.status.idle": "2023-08-11T20:13:12.618165Z",
     "shell.execute_reply": "2023-08-11T20:13:12.616850Z"
    },
    "papermill": {
     "duration": 0.079816,
     "end_time": "2023-08-11T20:13:12.620985",
     "exception": false,
     "start_time": "2023-08-11T20:13:12.541169",
     "status": "completed"
    },
    "tags": []
   },
   "outputs": [
    {
     "data": {
      "text/plain": [
       "3.5255285642993797"
      ]
     },
     "execution_count": 19,
     "metadata": {},
     "output_type": "execute_result"
    }
   ],
   "source": [
    "ratings['rating'].mean()"
   ]
  },
  {
   "cell_type": "code",
   "execution_count": 20,
   "id": "c96f112c",
   "metadata": {
    "execution": {
     "iopub.execute_input": "2023-08-11T20:13:12.662253Z",
     "iopub.status.busy": "2023-08-11T20:13:12.660854Z",
     "iopub.status.idle": "2023-08-11T20:13:12.666147Z",
     "shell.execute_reply": "2023-08-11T20:13:12.665217Z"
    },
    "papermill": {
     "duration": 0.028391,
     "end_time": "2023-08-11T20:13:12.668643",
     "exception": false,
     "start_time": "2023-08-11T20:13:12.640252",
     "status": "completed"
    },
    "tags": []
   },
   "outputs": [],
   "source": [
    "#ratings.mean()"
   ]
  },
  {
   "cell_type": "code",
   "execution_count": 21,
   "id": "d881dd98",
   "metadata": {
    "execution": {
     "iopub.execute_input": "2023-08-11T20:13:12.709242Z",
     "iopub.status.busy": "2023-08-11T20:13:12.708436Z",
     "iopub.status.idle": "2023-08-11T20:13:12.763880Z",
     "shell.execute_reply": "2023-08-11T20:13:12.762867Z"
    },
    "papermill": {
     "duration": 0.078583,
     "end_time": "2023-08-11T20:13:12.766356",
     "exception": false,
     "start_time": "2023-08-11T20:13:12.687773",
     "status": "completed"
    },
    "tags": []
   },
   "outputs": [
    {
     "data": {
      "text/plain": [
       "0.5"
      ]
     },
     "execution_count": 21,
     "metadata": {},
     "output_type": "execute_result"
    }
   ],
   "source": [
    "ratings['rating'].min()"
   ]
  },
  {
   "cell_type": "code",
   "execution_count": 22,
   "id": "a65ddce7",
   "metadata": {
    "execution": {
     "iopub.execute_input": "2023-08-11T20:13:12.807139Z",
     "iopub.status.busy": "2023-08-11T20:13:12.806364Z",
     "iopub.status.idle": "2023-08-11T20:13:12.861188Z",
     "shell.execute_reply": "2023-08-11T20:13:12.859878Z"
    },
    "papermill": {
     "duration": 0.07828,
     "end_time": "2023-08-11T20:13:12.863826",
     "exception": false,
     "start_time": "2023-08-11T20:13:12.785546",
     "status": "completed"
    },
    "tags": []
   },
   "outputs": [
    {
     "data": {
      "text/plain": [
       "5.0"
      ]
     },
     "execution_count": 22,
     "metadata": {},
     "output_type": "execute_result"
    }
   ],
   "source": [
    "ratings['rating'].max()"
   ]
  },
  {
   "cell_type": "code",
   "execution_count": 23,
   "id": "775e3161",
   "metadata": {
    "execution": {
     "iopub.execute_input": "2023-08-11T20:13:12.905504Z",
     "iopub.status.busy": "2023-08-11T20:13:12.904666Z",
     "iopub.status.idle": "2023-08-11T20:13:13.132678Z",
     "shell.execute_reply": "2023-08-11T20:13:13.131408Z"
    },
    "papermill": {
     "duration": 0.252156,
     "end_time": "2023-08-11T20:13:13.135499",
     "exception": false,
     "start_time": "2023-08-11T20:13:12.883343",
     "status": "completed"
    },
    "tags": []
   },
   "outputs": [
    {
     "data": {
      "text/plain": [
       "1.0519889192942424"
      ]
     },
     "execution_count": 23,
     "metadata": {},
     "output_type": "execute_result"
    }
   ],
   "source": [
    "ratings['rating'].std()"
   ]
  },
  {
   "cell_type": "code",
   "execution_count": 24,
   "id": "2a7c20c8",
   "metadata": {
    "execution": {
     "iopub.execute_input": "2023-08-11T20:13:13.177080Z",
     "iopub.status.busy": "2023-08-11T20:13:13.176187Z",
     "iopub.status.idle": "2023-08-11T20:13:13.502501Z",
     "shell.execute_reply": "2023-08-11T20:13:13.501168Z"
    },
    "papermill": {
     "duration": 0.350289,
     "end_time": "2023-08-11T20:13:13.505338",
     "exception": false,
     "start_time": "2023-08-11T20:13:13.155049",
     "status": "completed"
    },
    "tags": []
   },
   "outputs": [
    {
     "data": {
      "text/plain": [
       "0    4.0\n",
       "Name: rating, dtype: float64"
      ]
     },
     "execution_count": 24,
     "metadata": {},
     "output_type": "execute_result"
    }
   ],
   "source": [
    "ratings['rating'].mode()"
   ]
  },
  {
   "cell_type": "code",
   "execution_count": 25,
   "id": "20b8c9e8",
   "metadata": {
    "execution": {
     "iopub.execute_input": "2023-08-11T20:13:13.548150Z",
     "iopub.status.busy": "2023-08-11T20:13:13.547698Z",
     "iopub.status.idle": "2023-08-11T20:13:14.527625Z",
     "shell.execute_reply": "2023-08-11T20:13:14.526396Z"
    },
    "papermill": {
     "duration": 1.004115,
     "end_time": "2023-08-11T20:13:14.530435",
     "exception": false,
     "start_time": "2023-08-11T20:13:13.526320",
     "status": "completed"
    },
    "tags": []
   },
   "outputs": [
    {
     "data": {
      "text/html": [
       "<div>\n",
       "<style scoped>\n",
       "    .dataframe tbody tr th:only-of-type {\n",
       "        vertical-align: middle;\n",
       "    }\n",
       "\n",
       "    .dataframe tbody tr th {\n",
       "        vertical-align: top;\n",
       "    }\n",
       "\n",
       "    .dataframe thead th {\n",
       "        text-align: right;\n",
       "    }\n",
       "</style>\n",
       "<table border=\"1\" class=\"dataframe\">\n",
       "  <thead>\n",
       "    <tr style=\"text-align: right;\">\n",
       "      <th></th>\n",
       "      <th>userId</th>\n",
       "      <th>movieId</th>\n",
       "      <th>rating</th>\n",
       "    </tr>\n",
       "  </thead>\n",
       "  <tbody>\n",
       "    <tr>\n",
       "      <th>userId</th>\n",
       "      <td>1.000000</td>\n",
       "      <td>-0.000850</td>\n",
       "      <td>0.001175</td>\n",
       "    </tr>\n",
       "    <tr>\n",
       "      <th>movieId</th>\n",
       "      <td>-0.000850</td>\n",
       "      <td>1.000000</td>\n",
       "      <td>0.002606</td>\n",
       "    </tr>\n",
       "    <tr>\n",
       "      <th>rating</th>\n",
       "      <td>0.001175</td>\n",
       "      <td>0.002606</td>\n",
       "      <td>1.000000</td>\n",
       "    </tr>\n",
       "  </tbody>\n",
       "</table>\n",
       "</div>"
      ],
      "text/plain": [
       "           userId   movieId    rating\n",
       "userId   1.000000 -0.000850  0.001175\n",
       "movieId -0.000850  1.000000  0.002606\n",
       "rating   0.001175  0.002606  1.000000"
      ]
     },
     "execution_count": 25,
     "metadata": {},
     "output_type": "execute_result"
    }
   ],
   "source": [
    "ratings.corr()"
   ]
  },
  {
   "cell_type": "code",
   "execution_count": 26,
   "id": "cc90c2b0",
   "metadata": {
    "execution": {
     "iopub.execute_input": "2023-08-11T20:13:14.575201Z",
     "iopub.status.busy": "2023-08-11T20:13:14.574439Z",
     "iopub.status.idle": "2023-08-11T20:13:14.608947Z",
     "shell.execute_reply": "2023-08-11T20:13:14.608084Z"
    },
    "papermill": {
     "duration": 0.059352,
     "end_time": "2023-08-11T20:13:14.611412",
     "exception": false,
     "start_time": "2023-08-11T20:13:14.552060",
     "status": "completed"
    },
    "tags": []
   },
   "outputs": [
    {
     "name": "stdout",
     "output_type": "stream",
     "text": [
      "0           False\n",
      "1           False\n",
      "2           False\n",
      "3           False\n",
      "4           False\n",
      "            ...  \n",
      "20000258    False\n",
      "20000259    False\n",
      "20000260    False\n",
      "20000261    False\n",
      "20000262    False\n",
      "Name: rating, Length: 20000263, dtype: bool\n"
     ]
    },
    {
     "data": {
      "text/plain": [
       "False"
      ]
     },
     "execution_count": 26,
     "metadata": {},
     "output_type": "execute_result"
    }
   ],
   "source": [
    "filter1 = ratings['rating'] > 10\n",
    "print(filter1)\n",
    "filter1.any()"
   ]
  },
  {
   "cell_type": "code",
   "execution_count": 27,
   "id": "e93617f5",
   "metadata": {
    "execution": {
     "iopub.execute_input": "2023-08-11T20:13:14.654872Z",
     "iopub.status.busy": "2023-08-11T20:13:14.653728Z",
     "iopub.status.idle": "2023-08-11T20:13:14.683527Z",
     "shell.execute_reply": "2023-08-11T20:13:14.682588Z"
    },
    "papermill": {
     "duration": 0.053974,
     "end_time": "2023-08-11T20:13:14.685961",
     "exception": false,
     "start_time": "2023-08-11T20:13:14.631987",
     "status": "completed"
    },
    "tags": []
   },
   "outputs": [
    {
     "data": {
      "text/plain": [
       "True"
      ]
     },
     "execution_count": 27,
     "metadata": {},
     "output_type": "execute_result"
    }
   ],
   "source": [
    "filter2 = ratings['rating'] > 0\n",
    "filter2.all()"
   ]
  },
  {
   "cell_type": "markdown",
   "id": "e147d832",
   "metadata": {
    "papermill": {
     "duration": 0.02016,
     "end_time": "2023-08-11T20:13:14.727275",
     "exception": false,
     "start_time": "2023-08-11T20:13:14.707115",
     "status": "completed"
    },
    "tags": []
   },
   "source": [
    "**Data Cleaning: Handling Missing Data**"
   ]
  },
  {
   "cell_type": "code",
   "execution_count": 28,
   "id": "7385e1c0",
   "metadata": {
    "execution": {
     "iopub.execute_input": "2023-08-11T20:13:14.770785Z",
     "iopub.status.busy": "2023-08-11T20:13:14.769620Z",
     "iopub.status.idle": "2023-08-11T20:13:14.777425Z",
     "shell.execute_reply": "2023-08-11T20:13:14.776312Z"
    },
    "papermill": {
     "duration": 0.032264,
     "end_time": "2023-08-11T20:13:14.779895",
     "exception": false,
     "start_time": "2023-08-11T20:13:14.747631",
     "status": "completed"
    },
    "tags": []
   },
   "outputs": [
    {
     "data": {
      "text/plain": [
       "(27278, 3)"
      ]
     },
     "execution_count": 28,
     "metadata": {},
     "output_type": "execute_result"
    }
   ],
   "source": [
    "movies.shape"
   ]
  },
  {
   "cell_type": "code",
   "execution_count": 29,
   "id": "2594e592",
   "metadata": {
    "execution": {
     "iopub.execute_input": "2023-08-11T20:13:14.823921Z",
     "iopub.status.busy": "2023-08-11T20:13:14.823462Z",
     "iopub.status.idle": "2023-08-11T20:13:14.852677Z",
     "shell.execute_reply": "2023-08-11T20:13:14.850769Z"
    },
    "papermill": {
     "duration": 0.055149,
     "end_time": "2023-08-11T20:13:14.855772",
     "exception": false,
     "start_time": "2023-08-11T20:13:14.800623",
     "status": "completed"
    },
    "tags": []
   },
   "outputs": [
    {
     "data": {
      "text/plain": [
       "False"
      ]
     },
     "execution_count": 29,
     "metadata": {},
     "output_type": "execute_result"
    }
   ],
   "source": [
    "movies.isnull().any().any()\n"
   ]
  },
  {
   "cell_type": "code",
   "execution_count": 30,
   "id": "0ac77a0b",
   "metadata": {
    "execution": {
     "iopub.execute_input": "2023-08-11T20:13:14.901314Z",
     "iopub.status.busy": "2023-08-11T20:13:14.900818Z",
     "iopub.status.idle": "2023-08-11T20:13:14.907518Z",
     "shell.execute_reply": "2023-08-11T20:13:14.906440Z"
    },
    "papermill": {
     "duration": 0.032547,
     "end_time": "2023-08-11T20:13:14.909932",
     "exception": false,
     "start_time": "2023-08-11T20:13:14.877385",
     "status": "completed"
    },
    "tags": []
   },
   "outputs": [
    {
     "data": {
      "text/plain": [
       "(20000263, 4)"
      ]
     },
     "execution_count": 30,
     "metadata": {},
     "output_type": "execute_result"
    }
   ],
   "source": [
    "ratings.shape\n"
   ]
  },
  {
   "cell_type": "code",
   "execution_count": 31,
   "id": "ce28e60a",
   "metadata": {
    "execution": {
     "iopub.execute_input": "2023-08-11T20:13:14.956898Z",
     "iopub.status.busy": "2023-08-11T20:13:14.956210Z",
     "iopub.status.idle": "2023-08-11T20:13:21.386150Z",
     "shell.execute_reply": "2023-08-11T20:13:21.384988Z"
    },
    "papermill": {
     "duration": 6.456245,
     "end_time": "2023-08-11T20:13:21.388652",
     "exception": false,
     "start_time": "2023-08-11T20:13:14.932407",
     "status": "completed"
    },
    "tags": []
   },
   "outputs": [
    {
     "data": {
      "text/plain": [
       "False"
      ]
     },
     "execution_count": 31,
     "metadata": {},
     "output_type": "execute_result"
    }
   ],
   "source": [
    "ratings.isnull().any().any()\n"
   ]
  },
  {
   "cell_type": "code",
   "execution_count": 32,
   "id": "d3e333e5",
   "metadata": {
    "execution": {
     "iopub.execute_input": "2023-08-11T20:13:21.433837Z",
     "iopub.status.busy": "2023-08-11T20:13:21.433429Z",
     "iopub.status.idle": "2023-08-11T20:13:21.441073Z",
     "shell.execute_reply": "2023-08-11T20:13:21.439848Z"
    },
    "papermill": {
     "duration": 0.034139,
     "end_time": "2023-08-11T20:13:21.443616",
     "exception": false,
     "start_time": "2023-08-11T20:13:21.409477",
     "status": "completed"
    },
    "tags": []
   },
   "outputs": [
    {
     "data": {
      "text/plain": [
       "(465564, 4)"
      ]
     },
     "execution_count": 32,
     "metadata": {},
     "output_type": "execute_result"
    }
   ],
   "source": [
    "tags.shape\n"
   ]
  },
  {
   "cell_type": "code",
   "execution_count": 33,
   "id": "d04d9f92",
   "metadata": {
    "execution": {
     "iopub.execute_input": "2023-08-11T20:13:21.489064Z",
     "iopub.status.busy": "2023-08-11T20:13:21.488597Z",
     "iopub.status.idle": "2023-08-11T20:13:21.800286Z",
     "shell.execute_reply": "2023-08-11T20:13:21.799020Z"
    },
    "papermill": {
     "duration": 0.337283,
     "end_time": "2023-08-11T20:13:21.802757",
     "exception": false,
     "start_time": "2023-08-11T20:13:21.465474",
     "status": "completed"
    },
    "tags": []
   },
   "outputs": [
    {
     "data": {
      "text/plain": [
       "True"
      ]
     },
     "execution_count": 33,
     "metadata": {},
     "output_type": "execute_result"
    }
   ],
   "source": [
    "tags.isnull().any().any()\n"
   ]
  },
  {
   "cell_type": "code",
   "execution_count": 34,
   "id": "fe91b6f8",
   "metadata": {
    "execution": {
     "iopub.execute_input": "2023-08-11T20:13:21.846844Z",
     "iopub.status.busy": "2023-08-11T20:13:21.846390Z",
     "iopub.status.idle": "2023-08-11T20:13:22.184626Z",
     "shell.execute_reply": "2023-08-11T20:13:22.183289Z"
    },
    "papermill": {
     "duration": 0.363637,
     "end_time": "2023-08-11T20:13:22.187549",
     "exception": false,
     "start_time": "2023-08-11T20:13:21.823912",
     "status": "completed"
    },
    "tags": []
   },
   "outputs": [],
   "source": [
    "tags=tags.dropna()\n"
   ]
  },
  {
   "cell_type": "code",
   "execution_count": 35,
   "id": "43e5c8ab",
   "metadata": {
    "execution": {
     "iopub.execute_input": "2023-08-11T20:13:22.231692Z",
     "iopub.status.busy": "2023-08-11T20:13:22.231248Z",
     "iopub.status.idle": "2023-08-11T20:13:22.540075Z",
     "shell.execute_reply": "2023-08-11T20:13:22.539166Z"
    },
    "papermill": {
     "duration": 0.333654,
     "end_time": "2023-08-11T20:13:22.542366",
     "exception": false,
     "start_time": "2023-08-11T20:13:22.208712",
     "status": "completed"
    },
    "tags": []
   },
   "outputs": [
    {
     "data": {
      "text/plain": [
       "False"
      ]
     },
     "execution_count": 35,
     "metadata": {},
     "output_type": "execute_result"
    }
   ],
   "source": [
    "tags.isnull().any().any()\n"
   ]
  },
  {
   "cell_type": "code",
   "execution_count": 36,
   "id": "2f604e58",
   "metadata": {
    "execution": {
     "iopub.execute_input": "2023-08-11T20:13:22.587699Z",
     "iopub.status.busy": "2023-08-11T20:13:22.586610Z",
     "iopub.status.idle": "2023-08-11T20:13:22.594082Z",
     "shell.execute_reply": "2023-08-11T20:13:22.593219Z"
    },
    "papermill": {
     "duration": 0.032737,
     "end_time": "2023-08-11T20:13:22.596500",
     "exception": false,
     "start_time": "2023-08-11T20:13:22.563763",
     "status": "completed"
    },
    "tags": []
   },
   "outputs": [
    {
     "data": {
      "text/plain": [
       "(465548, 4)"
      ]
     },
     "execution_count": 36,
     "metadata": {},
     "output_type": "execute_result"
    }
   ],
   "source": [
    "tags.shape\n"
   ]
  },
  {
   "cell_type": "markdown",
   "id": "8d24d139",
   "metadata": {
    "papermill": {
     "duration": 0.021194,
     "end_time": "2023-08-11T20:13:22.639368",
     "exception": false,
     "start_time": "2023-08-11T20:13:22.618174",
     "status": "completed"
    },
    "tags": []
   },
   "source": [
    "**Data Visualization**"
   ]
  },
  {
   "cell_type": "code",
   "execution_count": 37,
   "id": "ba855635",
   "metadata": {
    "execution": {
     "iopub.execute_input": "2023-08-11T20:13:22.684853Z",
     "iopub.status.busy": "2023-08-11T20:13:22.684067Z",
     "iopub.status.idle": "2023-08-11T20:13:23.989196Z",
     "shell.execute_reply": "2023-08-11T20:13:23.987925Z"
    },
    "papermill": {
     "duration": 1.330742,
     "end_time": "2023-08-11T20:13:23.991821",
     "exception": false,
     "start_time": "2023-08-11T20:13:22.661079",
     "status": "completed"
    },
    "tags": []
   },
   "outputs": [
    {
     "data": {
      "text/plain": [
       "array([[<Axes: title={'center': 'rating'}>]], dtype=object)"
      ]
     },
     "execution_count": 37,
     "metadata": {},
     "output_type": "execute_result"
    },
    {
     "data": {
      "image/png": "[encoded data removed]",
      "text/plain": [
       "<Figure size 800x500 with 1 Axes>"
      ]
     },
     "metadata": {},
     "output_type": "display_data"
    }
   ],
   "source": [
    "ratings.hist(column='rating', figsize=(8,5))\n"
   ]
  },
  {
   "cell_type": "code",
   "execution_count": 38,
   "id": "719fc449",
   "metadata": {
    "execution": {
     "iopub.execute_input": "2023-08-11T20:13:24.038110Z",
     "iopub.status.busy": "2023-08-11T20:13:24.037671Z",
     "iopub.status.idle": "2023-08-11T20:14:21.287499Z",
     "shell.execute_reply": "2023-08-11T20:14:21.286280Z"
    },
    "papermill": {
     "duration": 57.276615,
     "end_time": "2023-08-11T20:14:21.290879",
     "exception": false,
     "start_time": "2023-08-11T20:13:24.014264",
     "status": "completed"
    },
    "tags": []
   },
   "outputs": [
    {
     "data": {
      "text/plain": [
       "<Axes: >"
      ]
     },
     "execution_count": 38,
     "metadata": {},
     "output_type": "execute_result"
    },
    {
     "data": {
      "image/png": "[encoded data removed]",
      "text/plain": [
       "<Figure size 1000x500 with 1 Axes>"
      ]
     },
     "metadata": {},
     "output_type": "display_data"
    }
   ],
   "source": [
    "ratings.boxplot(column='rating', figsize=(10,5))\n"
   ]
  },
  {
   "cell_type": "markdown",
   "id": "ce1caab2",
   "metadata": {
    "papermill": {
     "duration": 0.021967,
     "end_time": "2023-08-11T20:14:21.335716",
     "exception": false,
     "start_time": "2023-08-11T20:14:21.313749",
     "status": "completed"
    },
    "tags": []
   },
   "source": [
    "**Slicing Out Columns**"
   ]
  },
  {
   "cell_type": "code",
   "execution_count": 39,
   "id": "a469f619",
   "metadata": {
    "execution": {
     "iopub.execute_input": "2023-08-11T20:14:21.382179Z",
     "iopub.status.busy": "2023-08-11T20:14:21.381729Z",
     "iopub.status.idle": "2023-08-11T20:14:21.391271Z",
     "shell.execute_reply": "2023-08-11T20:14:21.390162Z"
    },
    "papermill": {
     "duration": 0.036005,
     "end_time": "2023-08-11T20:14:21.393996",
     "exception": false,
     "start_time": "2023-08-11T20:14:21.357991",
     "status": "completed"
    },
    "tags": []
   },
   "outputs": [
    {
     "data": {
      "text/plain": [
       "0      Mark Waters\n",
       "1        dark hero\n",
       "2        dark hero\n",
       "3    noir thriller\n",
       "4        dark hero\n",
       "Name: tag, dtype: object"
      ]
     },
     "execution_count": 39,
     "metadata": {},
     "output_type": "execute_result"
    }
   ],
   "source": [
    "tags['tag'].head()\n"
   ]
  },
  {
   "cell_type": "code",
   "execution_count": 40,
   "id": "0938c1f4",
   "metadata": {
    "execution": {
     "iopub.execute_input": "2023-08-11T20:14:21.441695Z",
     "iopub.status.busy": "2023-08-11T20:14:21.440605Z",
     "iopub.status.idle": "2023-08-11T20:14:21.453153Z",
     "shell.execute_reply": "2023-08-11T20:14:21.452225Z"
    },
    "papermill": {
     "duration": 0.038857,
     "end_time": "2023-08-11T20:14:21.455472",
     "exception": false,
     "start_time": "2023-08-11T20:14:21.416615",
     "status": "completed"
    },
    "tags": []
   },
   "outputs": [
    {
     "data": {
      "text/html": [
       "<div>\n",
       "<style scoped>\n",
       "    .dataframe tbody tr th:only-of-type {\n",
       "        vertical-align: middle;\n",
       "    }\n",
       "\n",
       "    .dataframe tbody tr th {\n",
       "        vertical-align: top;\n",
       "    }\n",
       "\n",
       "    .dataframe thead th {\n",
       "        text-align: right;\n",
       "    }\n",
       "</style>\n",
       "<table border=\"1\" class=\"dataframe\">\n",
       "  <thead>\n",
       "    <tr style=\"text-align: right;\">\n",
       "      <th></th>\n",
       "      <th>title</th>\n",
       "      <th>genres</th>\n",
       "    </tr>\n",
       "  </thead>\n",
       "  <tbody>\n",
       "    <tr>\n",
       "      <th>0</th>\n",
       "      <td>Toy Story (1995)</td>\n",
       "      <td>Adventure|Animation|Children|Comedy|Fantasy</td>\n",
       "    </tr>\n",
       "    <tr>\n",
       "      <th>1</th>\n",
       "      <td>Jumanji (1995)</td>\n",
       "      <td>Adventure|Children|Fantasy</td>\n",
       "    </tr>\n",
       "    <tr>\n",
       "      <th>2</th>\n",
       "      <td>Grumpier Old Men (1995)</td>\n",
       "      <td>Comedy|Romance</td>\n",
       "    </tr>\n",
       "    <tr>\n",
       "      <th>3</th>\n",
       "      <td>Waiting to Exhale (1995)</td>\n",
       "      <td>Comedy|Drama|Romance</td>\n",
       "    </tr>\n",
       "    <tr>\n",
       "      <th>4</th>\n",
       "      <td>Father of the Bride Part II (1995)</td>\n",
       "      <td>Comedy</td>\n",
       "    </tr>\n",
       "  </tbody>\n",
       "</table>\n",
       "</div>"
      ],
      "text/plain": [
       "                                title  \\\n",
       "0                    Toy Story (1995)   \n",
       "1                      Jumanji (1995)   \n",
       "2             Grumpier Old Men (1995)   \n",
       "3            Waiting to Exhale (1995)   \n",
       "4  Father of the Bride Part II (1995)   \n",
       "\n",
       "                                        genres  \n",
       "0  Adventure|Animation|Children|Comedy|Fantasy  \n",
       "1                   Adventure|Children|Fantasy  \n",
       "2                               Comedy|Romance  \n",
       "3                         Comedy|Drama|Romance  \n",
       "4                                       Comedy  "
      ]
     },
     "execution_count": 40,
     "metadata": {},
     "output_type": "execute_result"
    }
   ],
   "source": [
    "movies[['title','genres']].head()\n"
   ]
  },
  {
   "cell_type": "code",
   "execution_count": 41,
   "id": "433ef289",
   "metadata": {
    "execution": {
     "iopub.execute_input": "2023-08-11T20:14:21.504215Z",
     "iopub.status.busy": "2023-08-11T20:14:21.503456Z",
     "iopub.status.idle": "2023-08-11T20:14:21.516062Z",
     "shell.execute_reply": "2023-08-11T20:14:21.515185Z"
    },
    "papermill": {
     "duration": 0.040021,
     "end_time": "2023-08-11T20:14:21.518575",
     "exception": false,
     "start_time": "2023-08-11T20:14:21.478554",
     "status": "completed"
    },
    "tags": []
   },
   "outputs": [
    {
     "data": {
      "text/html": [
       "<div>\n",
       "<style scoped>\n",
       "    .dataframe tbody tr th:only-of-type {\n",
       "        vertical-align: middle;\n",
       "    }\n",
       "\n",
       "    .dataframe tbody tr th {\n",
       "        vertical-align: top;\n",
       "    }\n",
       "\n",
       "    .dataframe thead th {\n",
       "        text-align: right;\n",
       "    }\n",
       "</style>\n",
       "<table border=\"1\" class=\"dataframe\">\n",
       "  <thead>\n",
       "    <tr style=\"text-align: right;\">\n",
       "      <th></th>\n",
       "      <th>userId</th>\n",
       "      <th>movieId</th>\n",
       "      <th>rating</th>\n",
       "      <th>timestamp</th>\n",
       "    </tr>\n",
       "  </thead>\n",
       "  <tbody>\n",
       "    <tr>\n",
       "      <th>20000253</th>\n",
       "      <td>138493</td>\n",
       "      <td>60816</td>\n",
       "      <td>4.5</td>\n",
       "      <td>2009-12-03 18:32:43</td>\n",
       "    </tr>\n",
       "    <tr>\n",
       "      <th>20000254</th>\n",
       "      <td>138493</td>\n",
       "      <td>61160</td>\n",
       "      <td>4.0</td>\n",
       "      <td>2009-11-16 16:55:37</td>\n",
       "    </tr>\n",
       "    <tr>\n",
       "      <th>20000255</th>\n",
       "      <td>138493</td>\n",
       "      <td>65682</td>\n",
       "      <td>4.5</td>\n",
       "      <td>2009-10-17 21:52:53</td>\n",
       "    </tr>\n",
       "    <tr>\n",
       "      <th>20000256</th>\n",
       "      <td>138493</td>\n",
       "      <td>66762</td>\n",
       "      <td>4.5</td>\n",
       "      <td>2009-10-17 18:50:08</td>\n",
       "    </tr>\n",
       "    <tr>\n",
       "      <th>20000257</th>\n",
       "      <td>138493</td>\n",
       "      <td>68319</td>\n",
       "      <td>4.5</td>\n",
       "      <td>2009-12-07 18:15:20</td>\n",
       "    </tr>\n",
       "    <tr>\n",
       "      <th>20000258</th>\n",
       "      <td>138493</td>\n",
       "      <td>68954</td>\n",
       "      <td>4.5</td>\n",
       "      <td>2009-11-13 15:42:00</td>\n",
       "    </tr>\n",
       "    <tr>\n",
       "      <th>20000259</th>\n",
       "      <td>138493</td>\n",
       "      <td>69526</td>\n",
       "      <td>4.5</td>\n",
       "      <td>2009-12-03 18:31:48</td>\n",
       "    </tr>\n",
       "    <tr>\n",
       "      <th>20000260</th>\n",
       "      <td>138493</td>\n",
       "      <td>69644</td>\n",
       "      <td>3.0</td>\n",
       "      <td>2009-12-07 18:10:57</td>\n",
       "    </tr>\n",
       "    <tr>\n",
       "      <th>20000261</th>\n",
       "      <td>138493</td>\n",
       "      <td>70286</td>\n",
       "      <td>5.0</td>\n",
       "      <td>2009-11-13 15:42:24</td>\n",
       "    </tr>\n",
       "    <tr>\n",
       "      <th>20000262</th>\n",
       "      <td>138493</td>\n",
       "      <td>71619</td>\n",
       "      <td>2.5</td>\n",
       "      <td>2009-10-17 20:25:36</td>\n",
       "    </tr>\n",
       "  </tbody>\n",
       "</table>\n",
       "</div>"
      ],
      "text/plain": [
       "          userId  movieId  rating            timestamp\n",
       "20000253  138493    60816     4.5  2009-12-03 18:32:43\n",
       "20000254  138493    61160     4.0  2009-11-16 16:55:37\n",
       "20000255  138493    65682     4.5  2009-10-17 21:52:53\n",
       "20000256  138493    66762     4.5  2009-10-17 18:50:08\n",
       "20000257  138493    68319     4.5  2009-12-07 18:15:20\n",
       "20000258  138493    68954     4.5  2009-11-13 15:42:00\n",
       "20000259  138493    69526     4.5  2009-12-03 18:31:48\n",
       "20000260  138493    69644     3.0  2009-12-07 18:10:57\n",
       "20000261  138493    70286     5.0  2009-11-13 15:42:24\n",
       "20000262  138493    71619     2.5  2009-10-17 20:25:36"
      ]
     },
     "execution_count": 41,
     "metadata": {},
     "output_type": "execute_result"
    }
   ],
   "source": [
    "ratings[-10:]\n"
   ]
  },
  {
   "cell_type": "code",
   "execution_count": 42,
   "id": "0ef1d6db",
   "metadata": {
    "execution": {
     "iopub.execute_input": "2023-08-11T20:14:21.567288Z",
     "iopub.status.busy": "2023-08-11T20:14:21.566567Z",
     "iopub.status.idle": "2023-08-11T20:14:21.682231Z",
     "shell.execute_reply": "2023-08-11T20:14:21.681065Z"
    },
    "papermill": {
     "duration": 0.14359,
     "end_time": "2023-08-11T20:14:21.685293",
     "exception": false,
     "start_time": "2023-08-11T20:14:21.541703",
     "status": "completed"
    },
    "tags": []
   },
   "outputs": [
    {
     "data": {
      "text/plain": [
       "Slayer                           1\n",
       "Good Versus Evil                 1\n",
       "narf                             1\n",
       "Tourettes                        1\n",
       "insurance scam                   1\n",
       "Kate Isitt                       1\n",
       "Henry Ian Cusick                 1\n",
       "Hans Matheson                    1\n",
       "Wichita                          1\n",
       "strip club                       1\n",
       "missing child                    1\n",
       "Ron Moore                        1\n",
       "Citizen Kane                     1\n",
       "mullet                           1\n",
       "biker gang                       1\n",
       "Paul Adelstein                   1\n",
       "the wig                          1\n",
       "killer fish                      1\n",
       "genetically modified monsters    1\n",
       "topless scene                    1\n",
       "Name: tag, dtype: int64"
      ]
     },
     "execution_count": 42,
     "metadata": {},
     "output_type": "execute_result"
    }
   ],
   "source": [
    "tag_counts = tags['tag'].value_counts()\n",
    "tag_counts[-20:]"
   ]
  },
  {
   "cell_type": "code",
   "execution_count": 43,
   "id": "c43c061c",
   "metadata": {
    "execution": {
     "iopub.execute_input": "2023-08-11T20:14:21.734550Z",
     "iopub.status.busy": "2023-08-11T20:14:21.734139Z",
     "iopub.status.idle": "2023-08-11T20:14:22.063968Z",
     "shell.execute_reply": "2023-08-11T20:14:22.062751Z"
    },
    "papermill": {
     "duration": 0.357337,
     "end_time": "2023-08-11T20:14:22.066745",
     "exception": false,
     "start_time": "2023-08-11T20:14:21.709408",
     "status": "completed"
    },
    "tags": []
   },
   "outputs": [
    {
     "data": {
      "text/plain": [
       "<Axes: >"
      ]
     },
     "execution_count": 43,
     "metadata": {},
     "output_type": "execute_result"
    },
    {
     "data": {
      "image/png": "[encoded data removed]",
      "text/plain": [
       "<Figure size 1000x500 with 1 Axes>"
      ]
     },
     "metadata": {},
     "output_type": "display_data"
    }
   ],
   "source": [
    "tag_counts[:10].plot(kind='bar', figsize=(10,5))\n",
    "\n"
   ]
  },
  {
   "cell_type": "code",
   "execution_count": null,
   "id": "9599f688",
   "metadata": {
    "papermill": {
     "duration": 0.023582,
     "end_time": "2023-08-11T20:14:22.114796",
     "exception": false,
     "start_time": "2023-08-11T20:14:22.091214",
     "status": "completed"
    },
    "tags": []
   },
   "outputs": [],
   "source": []
  },
  {
   "cell_type": "code",
   "execution_count": null,
   "id": "2616dac3",
   "metadata": {
    "papermill": {
     "duration": 0.024138,
     "end_time": "2023-08-11T20:14:22.163122",
     "exception": false,
     "start_time": "2023-08-11T20:14:22.138984",
     "status": "completed"
    },
    "tags": []
   },
   "outputs": [],
   "source": []
  },
  {
   "cell_type": "code",
   "execution_count": null,
   "id": "2c8c974d",
   "metadata": {
    "papermill": {
     "duration": 0.023903,
     "end_time": "2023-08-11T20:14:22.211812",
     "exception": false,
     "start_time": "2023-08-11T20:14:22.187909",
     "status": "completed"
    },
    "tags": []
   },
   "outputs": [],
   "source": []
  },
  {
   "cell_type": "code",
   "execution_count": null,
   "id": "4aaebd8e",
   "metadata": {
    "papermill": {
     "duration": 0.023538,
     "end_time": "2023-08-11T20:14:22.260766",
     "exception": false,
     "start_time": "2023-08-11T20:14:22.237228",
     "status": "completed"
    },
    "tags": []
   },
   "outputs": [],
   "source": []
  },
  {
   "cell_type": "code",
   "execution_count": null,
   "id": "c09ccfe6",
   "metadata": {
    "papermill": {
     "duration": 0.023396,
     "end_time": "2023-08-11T20:14:22.307903",
     "exception": false,
     "start_time": "2023-08-11T20:14:22.284507",
     "status": "completed"
    },
    "tags": []
   },
   "outputs": [],
   "source": []
  }
 ],
 "metadata": {
  "kernelspec": {
   "display_name": "Python 3",
   "language": "python",
   "name": "python3"
  },
  "language_info": {
   "codemirror_mode": {
    "name": "ipython",
    "version": 3
   },
   "file_extension": ".py",
   "mimetype": "text/x-python",
   "name": "python",
   "nbconvert_exporter": "python",
   "pygments_lexer": "ipython3",
   "version": "3.10.12"
  },
  "papermill": {
   "default_parameters": {},
   "duration": 116.507259,
   "end_time": "2023-08-11T20:14:24.160411",
   "environment_variables": {},
   "exception": null,
   "input_path": "__notebook__.ipynb",
   "output_path": "__notebook__.ipynb",
   "parameters": {},
   "start_time": "2023-08-11T20:12:27.653152",
   "version": "2.4.0"
  }
 },
 "nbformat": 4,
 "nbformat_minor": 5
}
